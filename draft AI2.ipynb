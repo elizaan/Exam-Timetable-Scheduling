{
 "cells": [
  {
   "cell_type": "code",
   "execution_count": 1,
   "metadata": {},
   "outputs": [],
   "source": [
    "f1 = open(\"car-s-91.crs\",\"r\")\n",
    "keys = []\n",
    "for x in f1:\n",
    "    keys.append(x.split(' ')[0])\n",
    "\n",
    "#print(keys)\n",
    "graph = dict.fromkeys(keys,None)\n",
    "#print(graph)"
   ]
  },
  {
   "cell_type": "code",
   "execution_count": 2,
   "metadata": {},
   "outputs": [],
   "source": [
    "f = open(\"car-s-91.stu\", \"r\")\n",
    "for x in f:\n",
    "    #print(x)\n",
    "   # print(x.split(' ')[0:3])\n",
    "    for j in range(0,len(x.split(' '))-1):\n",
    "        if( graph[x.split(' ')[j]] ) == None:\n",
    "            \n",
    "            graph[x.split(' ')[j]] = (x.split(' ')[0:len(x.split(' '))-1])\n",
    "        else:\n",
    "            for k in range(0,len(x.split(' '))-1):\n",
    "                graph[x.split(' ')[j]].append(x.split(' ')[k])\n",
    "        "
   ]
  },
  {
   "cell_type": "code",
   "execution_count": 3,
   "metadata": {},
   "outputs": [],
   "source": [
    "graph2 = {a:list(set(b)) for a, b in graph.items()} #deleting \n",
    "length = {a:len(b) for a, b in graph2.items()}\n",
    "#print(graph2)\n",
    "#print(length)\n"
   ]
  },
  {
   "cell_type": "code",
   "execution_count": 4,
   "metadata": {},
   "outputs": [],
   "source": [
    "for k, v in graph2.items():\n",
    "    #print((v))\n",
    "    for i in range(0, len(v)):\n",
    "        if(k == v[i]):\n",
    "            v.remove(v[i])\n",
    "            break\n"
   ]
  },
  {
   "cell_type": "code",
   "execution_count": 5,
   "metadata": {},
   "outputs": [],
   "source": [
    "#print(graph2)"
   ]
  },
  {
   "cell_type": "code",
   "execution_count": 6,
   "metadata": {},
   "outputs": [],
   "source": [
    "def color_nodes(g):\n",
    "  # Order nodes in descending degree\n",
    "    nodes = list(g.keys())\n",
    "    color_map = {}\n",
    "\n",
    "    for node in nodes:\n",
    "        available_colors = [True] * len(nodes)\n",
    "        for neighbor in g[node]:\n",
    "            if neighbor in color_map:\n",
    "                color = color_map[neighbor]\n",
    "                available_colors[color] = False\n",
    "        for color, available in enumerate(available_colors):\n",
    "            if available:\n",
    "                color_map[node] = color\n",
    "                break\n",
    "\n",
    "    return color_map"
   ]
  },
  {
   "cell_type": "code",
   "execution_count": 23,
   "metadata": {},
   "outputs": [
    {
     "name": "stdout",
     "output_type": "stream",
     "text": [
      "Total number of slot for random node:\n",
      "48\n"
     ]
    }
   ],
   "source": [
    "color1 = color_nodes(graph2)\n",
    "slot1 = sorted(list(color1.keys()), key=lambda x: color1[x], reverse=True)\n",
    "#print(slot1)\n",
    "#print(color1)\n",
    "print(\"Total number of slot for random node:\")\n",
    "print(int(color1[slot1[0]])+1)"
   ]
  },
  {
   "cell_type": "code",
   "execution_count": 24,
   "metadata": {},
   "outputs": [],
   "source": [
    "def color_nodes2(g):\n",
    "  # Order nodes in descending degree\n",
    "    nodes = sorted(list(g.keys()), key=lambda x: len(g[x]), reverse=True)\n",
    "    color_map = {}\n",
    "\n",
    "    for node in nodes:\n",
    "        available_colors = [True] * len(nodes)\n",
    "        for neighbor in g[node]:\n",
    "            if neighbor in color_map:\n",
    "                color = color_map[neighbor]\n",
    "                available_colors[color] = False\n",
    "        for color, available in enumerate(available_colors):\n",
    "            if available:\n",
    "                color_map[node] = color\n",
    "                break\n",
    "\n",
    "    return color_map"
   ]
  },
  {
   "cell_type": "code",
   "execution_count": 25,
   "metadata": {},
   "outputs": [
    {
     "name": "stdout",
     "output_type": "stream",
     "text": [
      "Total number of slot for highest degree node:\n",
      "34\n"
     ]
    }
   ],
   "source": [
    "color2 = color_nodes2(graph2) #largest degree\n",
    "#print(color2)\n",
    "slot2 = sorted(list(color2.keys()), key=lambda x: color2[x], reverse=True)\n",
    "#print(slot1)\n",
    "#print(color1)\n",
    "print(\"Total number of slot for highest degree node:\")\n",
    "print(int(color2[slot2[0]])+1)"
   ]
  },
  {
   "cell_type": "code",
   "execution_count": 26,
   "metadata": {},
   "outputs": [],
   "source": [
    "def sort_nodelist(nodelist):  \n",
    "  \n",
    "    # reverse = None (Sorts in Ascending order)  \n",
    "    # key is set to sort using second element of  \n",
    "    # sublist lambda has been used  \n",
    "    nodelist.sort(key = lambda x:(x[1],x[2]), reverse = True) # very cool\n",
    "#     if (len(nodelist)>1):\n",
    "#         for i in range(1,len(nodelist)):\n",
    "#             if (nodelist[i][1] == nodelist[0][1]):\n",
    "#                 temp =[]\n",
    "#                 if (nodelist[i][2]>= nodelist[i-1][2]):\n",
    "#                     temp = nodelist[i-1]\n",
    "#                     nodelist[i-1] = nodelist[i]\n",
    "#                     nodelist[i] = temp\n",
    "#             else:\n",
    "#                 break\n",
    "                \n",
    "            \n",
    "#         if(nodelist[0][1] == nodelist[1][1]):\n",
    "#             nodelist.sort(key = lambda x: x[2], reverse = True)\n",
    "    return nodelist[0] "
   ]
  },
  {
   "cell_type": "code",
   "execution_count": 30,
   "metadata": {},
   "outputs": [],
   "source": [
    "def color_nodes3(g):\n",
    "    nodelist = []\n",
    "    \n",
    "    colormap ={}\n",
    "    nodes = list(g.keys())\n",
    "    for node in range(0,len(nodes)):\n",
    "        nodelist.append([nodes[node], 0, len(g[nodes[node]])])\n",
    "        \n",
    "    #print(nodelist)\n",
    "    adjacent_color_map = dict.fromkeys(nodes,None)\n",
    "    \n",
    "            \n",
    "    while (len(nodelist)!= 0):\n",
    "        available_colors = []\n",
    "        for i in range(0,len(nodes)):\n",
    "             available_colors.append(True) \n",
    "    \n",
    "        selectednode = sort_nodelist(nodelist)\n",
    "        #print(selectednode)\n",
    "    \n",
    "        for neigh in g[selectednode[0]]:\n",
    "            if neigh in colormap:\n",
    "                color = colormap[neigh]\n",
    "                available_colors[color] = False\n",
    "    #         if adjacent_color_map[neigh]!=None:\n",
    "    #             color = adjacent_color_map[neigh]\n",
    "    #             for i in range(0, len(color)):\n",
    "    #                 available_colors[i] = False\n",
    "        for color, available in enumerate(available_colors):\n",
    "            if available:\n",
    "                colormap[selectednode[0]] = color\n",
    "#                 for k in range(0, len(nodelist)):\n",
    "#                         if(nodelist[k][0] == selectednode[0]):\n",
    "                nodelist.remove(selectednode)\n",
    "\n",
    "                for neigh in g[selectednode[0]]:\n",
    "                    if adjacent_color_map[neigh]==None:\n",
    "                        adjacent_color_map[neigh]= set([color])\n",
    "                    elif adjacent_color_map[neigh]!=None:\n",
    "                        adjacent_color_map[neigh].add(color)\n",
    "                    for k in range(0, len(nodelist)):\n",
    "                        if(nodelist[k][0] == neigh):\n",
    "                            nodelist[k][1] = len(adjacent_color_map[neigh])\n",
    "\n",
    "                break\n",
    "        \n",
    "    \n",
    "    \n",
    "    return colormap\n"
   ]
  },
  {
   "cell_type": "code",
   "execution_count": 31,
   "metadata": {},
   "outputs": [
    {
     "name": "stdout",
     "output_type": "stream",
     "text": [
      "Total number of slot for Dsatur algorithm:\n",
      "30\n"
     ]
    }
   ],
   "source": [
    "color3 =color_nodes3(graph2)\n",
    "#print(color3)\n",
    "slot3 = sorted(list(color3.keys()), key=lambda x: color3[x], reverse=True)\n",
    "#print(slot1)\n",
    "#print(color1)\n",
    "print(\"Total number of slot for Dsatur algorithm:\")\n",
    "print(int(color2[slot3[0]])+1)"
   ]
  },
  {
   "cell_type": "code",
   "execution_count": 32,
   "metadata": {},
   "outputs": [],
   "source": [
    "def penalty(color):\n",
    "    f = open(\"car-s-91.stu\", \"r\")\n",
    "    templ =[]\n",
    "    sum = 0\n",
    "    count = 0\n",
    "    for courses in f:\n",
    "        count = count+1\n",
    "        for k,v in color.items():\n",
    "            courses = courses.replace(k, str(v))\n",
    "        #print(courses)\n",
    "        templ = [int(courses.split(' ')[v]) for v in range(0, len(courses.split(' '))-1)]\n",
    "        templ.sort()\n",
    "        #print(templ)\n",
    "        for i in range(0,len(templ)-1):\n",
    "            for j in range(i+1,len(templ)):\n",
    "                if(templ[j] - templ[i]) > 5:\n",
    "                    sum = sum + 0\n",
    "                elif (templ[j] - templ[i]) <= 5:\n",
    "                    if (templ[j] - templ[i])==1:\n",
    "                        sum = sum +16\n",
    "                    if (templ[j] - templ[i])==2:\n",
    "                        sum = sum +8\n",
    "                    if (templ[j] - templ[i])==3:\n",
    "                        sum = sum +4\n",
    "                    if (templ[j] - templ[i])==4:\n",
    "                        sum = sum +2\n",
    "                    if (templ[j] - templ[i])==5:\n",
    "                        sum = sum +1\n",
    "\n",
    "\n",
    "\n",
    "    #print(sum)  \n",
    "    #print(count)\n",
    "    return float(float(sum)/count)\n",
    "    "
   ]
  },
  {
   "cell_type": "code",
   "execution_count": 33,
   "metadata": {},
   "outputs": [
    {
     "name": "stdout",
     "output_type": "stream",
     "text": [
      "Penalty without kempe chain for random node selection: \n",
      "9.773071015006499\n"
     ]
    }
   ],
   "source": [
    "penalty1 = penalty(color1)\n",
    "print(\"Penalty without kempe chain for random node selection: \")\n",
    "print(penalty1)"
   ]
  },
  {
   "cell_type": "code",
   "execution_count": 34,
   "metadata": {},
   "outputs": [
    {
     "name": "stdout",
     "output_type": "stream",
     "text": [
      "Penalty without kempe chain for node with highest degree selection: \n",
      "11.495037220843672\n"
     ]
    }
   ],
   "source": [
    "penalty2 = penalty(color2)\n",
    "print(\"Penalty without kempe chain for node with highest degree selection: \")\n",
    "print(penalty2)"
   ]
  },
  {
   "cell_type": "code",
   "execution_count": 35,
   "metadata": {},
   "outputs": [
    {
     "name": "stdout",
     "output_type": "stream",
     "text": [
      "Penalty without kempe chain for dsatur degree selection: \n",
      "12.445645752097365\n"
     ]
    }
   ],
   "source": [
    "penalty3 = penalty(color3)\n",
    "print(\"Penalty without kempe chain for dsatur degree selection: \")\n",
    "print(penalty3)"
   ]
  },
  {
   "cell_type": "code",
   "execution_count": 36,
   "metadata": {},
   "outputs": [],
   "source": [
    "def bfs(g, start,color,colori,colorj):\n",
    "    # keep track of all visited nodes\n",
    "    explored = []\n",
    "    # keep track of nodes to be checked\n",
    "    queue = [start]\n",
    " \n",
    "    # keep looping until there are nodes still to be checked\n",
    "    while queue:\n",
    "        # pop shallowest node (first node) from queue\n",
    "        node = queue.pop(0)\n",
    "        if node not in explored:\n",
    "            # add node to list of checked nodes\n",
    "            explored.append(node)\n",
    "            neighbours = g[node]\n",
    " \n",
    "            # add neighbours of node to queue\n",
    "            for neighbour in neighbours:\n",
    "                 if color[neighbour]==colori or color[neighbour] == colorj:\n",
    "                    queue.append(neighbour)\n",
    "    return explored"
   ]
  },
  {
   "cell_type": "code",
   "execution_count": 44,
   "metadata": {},
   "outputs": [],
   "source": [
    "import random\n",
    "def kempechain(g,color):\n",
    "        vertex, adjacents = random.choice(list(g.items()))\n",
    "        if(len(adjacents)==0):\n",
    "            return\n",
    "        second = random.choice(adjacents)\n",
    "        #p=penalty(color)\n",
    "        \n",
    "        #print(vertex,adjacents,second)\n",
    "        colori = color[vertex]\n",
    "        colorj = color[second]\n",
    "        #print(colori,colorj)\n",
    "        bfsfound = bfs(g,vertex,color,colori,colorj)\n",
    "        #print(bfsfound, len(bfsfound))\n",
    "        bfsfound.remove(vertex)\n",
    "        bfsfound.remove(second)\n",
    "#         bfsfoundcolor = []\n",
    "        color[second] = colori\n",
    "        color[vertex] = colorj\n",
    "        if(len(bfsfound)>1):\n",
    "            for i in range(0, len(bfsfound)):\n",
    "                if(color[bfsfound[i]] == colori):\n",
    "                    color[bfsfound[i]] = colorj\n",
    "                elif(color[bfsfound[i]]==colorj):\n",
    "                    color[bfsfound[i]] = colori\n",
    "                    \n",
    "        #q = penalty(color)\n",
    "\n",
    "#         if(q>=p):\n",
    "#             color[second] = colori\n",
    "#             color[vertex] = colorj\n",
    "#             if(len(bfsfound)>1):\n",
    "#                 for i in range(0, len(bfsfound)):\n",
    "#                     if(color[bfsfound[i]] == colori):\n",
    "#                         color[bfsfound[i]] = colorj\n",
    "#                     elif(color[bfsfound[i]]==colorj):\n",
    "#                         color[bfsfound[i]] = colori\n",
    "            \n",
    "           \n",
    "        \n",
    "            \n",
    "    "
   ]
  },
  {
   "cell_type": "code",
   "execution_count": 57,
   "metadata": {},
   "outputs": [],
   "source": [
    "for i in range(0,1500):\n",
    "    kempechain(graph2,color3)\n",
    "for i in range(0,1500):\n",
    "    kempechain(graph2,color2)\n",
    "for i in range(0,1500):\n",
    "    kempechain(graph2,color1)"
   ]
  },
  {
   "cell_type": "code",
   "execution_count": 58,
   "metadata": {},
   "outputs": [
    {
     "name": "stdout",
     "output_type": "stream",
     "text": [
      "Penalty with kempe chain for dsatur degree selection: \n",
      "9.750443105281814\n"
     ]
    }
   ],
   "source": [
    "penalty4 = penalty(color3)\n",
    "print(\"Penalty with kempe chain for dsatur degree selection: \")\n",
    "print(penalty4)"
   ]
  },
  {
   "cell_type": "code",
   "execution_count": 59,
   "metadata": {},
   "outputs": [
    {
     "name": "stdout",
     "output_type": "stream",
     "text": [
      "Penalty with kempe chain for highest degree selection: \n",
      "9.236204655559494\n"
     ]
    }
   ],
   "source": [
    "penalty5 = penalty(color2)\n",
    "print(\"Penalty with kempe chain for highest degree selection: \")\n",
    "print(penalty5)"
   ]
  },
  {
   "cell_type": "code",
   "execution_count": 60,
   "metadata": {},
   "outputs": [
    {
     "name": "stdout",
     "output_type": "stream",
     "text": [
      "Penalty with kempe chain for random node selection: \n",
      "6.153373508212218\n"
     ]
    }
   ],
   "source": [
    "penalty6 = penalty(color1)\n",
    "print(\"Penalty with kempe chain for random node selection: \")\n",
    "print(penalty6)"
   ]
  }
 ],
 "metadata": {
  "kernelspec": {
   "display_name": "Python 3",
   "language": "python",
   "name": "python3"
  },
  "language_info": {
   "codemirror_mode": {
    "name": "ipython",
    "version": 3
   },
   "file_extension": ".py",
   "mimetype": "text/x-python",
   "name": "python",
   "nbconvert_exporter": "python",
   "pygments_lexer": "ipython3",
   "version": "3.7.7"
  }
 },
 "nbformat": 4,
 "nbformat_minor": 4
}
